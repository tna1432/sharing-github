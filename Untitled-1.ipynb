{
 "cells": [
  {
   "cell_type": "code",
   "execution_count": null,
   "metadata": {},
   "outputs": [],
   "source": [
    "python\n",
    "import chess\n",
    "import chess.pgn\n",
    "import chess.engine\n",
    "import chess.svg\n",
    "from IPython.display import SVG, display\n",
    "\n",
    "# Define the PNG files for each player\n",
    "white_png = \"Nakamura.pgn\", \"Anand.png\", \"Caruana.png\", \"Karjakin.png\", \"So.png\"\n",
    "black_png = \"Carleson.pgn\", \"Ding.png\", \"Firouzja.png\", \"Giri.png\", \"Nepomniachtchi.png\"\n",
    "\n",
    "# Load the PGN dataset\n",
    "pgn_files = [white_png, black_png]\n",
    "\n",
    "# Initialize the chess engine (Stockfish)\n",
    "engine = chess.engine.SimpleEngine.popen_uci(\"stockfish-windows-x86-64-avx2\")\n",
    "\n",
    "# Iterate through each PGN file\n",
    "for pgn_file in pgn_files:\n",
    "    with open(pgn_file, 'r') as pgn:\n",
    "        while True:\n",
    "            # Read the next game from the PGN file\n",
    "            game = chess.pgn.read_game(pgn)\n",
    "            if game is None:\n",
    "                break  # End of file reached\n",
    "\n",
    "            # Initialize the chess board\n",
    "            board = game.board()\n",
    "\n",
    "            # Iterate through the moves in the game\n",
    "            for move in game.mainline_moves():\n",
    "                # Generate SVG representation of the board\n",
    "                svg = chess.svg.board(board, size=250)\n",
    "                display(SVG(data=svg))\n",
    "\n",
    "                # Get the best move from the PGN dataset\n",
    "                best_move = move\n",
    "\n",
    "                # Make the best move on the board\n",
    "                board.push(best_move)\n",
    "\n",
    "                # Get the evaluation from the chess engine for both sides\n",
    "                info = engine.analyse(board, chess.engine.Limit(time=10.0))\n",
    "                evaluation_white = info[\"score\"].relative.score()\n",
    "                evaluation_black = -evaluation_white\n",
    "\n",
    "                # Display the evaluations for both sides\n",
    "                print(\"Evaluation for White after move:\", evaluation_white)\n",
    "                print(\"Evaluation for Black after move:\", evaluation_black)\n",
    "\n",
    "# Close the chess engine\n",
    "engine.quit()"
   ]
  }
 ],
 "metadata": {
  "kernelspec": {
   "display_name": "base",
   "language": "python",
   "name": "python3"
  },
  "language_info": {
   "codemirror_mode": {
    "name": "ipython",
    "version": 3
   },
   "file_extension": ".py",
   "mimetype": "text/x-python",
   "name": "python",
   "nbconvert_exporter": "python",
   "pygments_lexer": "ipython3",
   "version": "3.11.5"
  }
 },
 "nbformat": 4,
 "nbformat_minor": 2
}
